{
 "cells": [
  {
   "cell_type": "code",
   "execution_count": 243,
   "id": "98fcd371",
   "metadata": {},
   "outputs": [
    {
     "name": "stdout",
     "output_type": "stream",
     "text": [
      "['gpt-3.5-turbo_0.7_propose1_value1_greedy2_start233_end241.json', 'gpt-3.5-turbo_0.7_propose1_value1_greedy2_start0_end1.json', 'gpt-3.5-turbo_0.7_propose1_value1_greedy2_start121_end150.json', 'gpt-3.5-turbo_0.7_propose1_value1_greedy2_start58_end100.json', 'gpt-3.5-turbo_0.7_propose1_value1_greedy2_start100_end120.json', 'Untitled.ipynb', 'gpt-3.5-turbo_0.7_propose1_value1_greedy2_start150_end200.json', 'gpt-3.5-turbo_0.7_propose1_value1_greedy2_start275_end307.json', 'gpt-3.5-turbo_0.7_propose1_value1_greedy2_start57_end58.json', 'gpt-3.5-turbo_0.7_propose1_value1_greedy2_start250_end275.json', 'gpt-3.5-turbo_0.7_propose1_value1_greedy2_start1_end56.json', 'gpt-3.5-turbo_0.7_propose1_value1_greedy2_start241_end250.json', 'gpt-3.5-turbo_1.0_sample5_value1_greedy1_start0_end307.json', '.ipynb_checkpoints', 'gpt-3.5-turbo_0.7_propose1_value1_greedy2_start200_end250.json']\n"
     ]
    }
   ],
   "source": [
    "import json\n",
    "import os\n",
    "\n",
    "files = os.listdir()\n",
    "\n",
    "print(files)"
   ]
  },
  {
   "cell_type": "code",
   "execution_count": 198,
   "id": "8910b8f9",
   "metadata": {},
   "outputs": [],
   "source": [
    "files_to_parse = ['gpt-3.5-turbo_1.0_sample5_value1_greedy1_start0_end307.json']\n",
    "all_results = []\n",
    "\n",
    "for f in files_to_parse:\n",
    "    content = json.loads(open(f).read())\n",
    "    all_results += content"
   ]
  },
  {
   "cell_type": "code",
   "execution_count": 199,
   "id": "e40ff7cd",
   "metadata": {},
   "outputs": [],
   "source": [
    "entry_template = {\n",
    "    'question_index': None,\n",
    "    'question': None,\n",
    "    'completion_tokens': None,\n",
    "    'prompt_tokens': None,\n",
    "    'cost': None,\n",
    "    'correct_answer': None,\n",
    "    'model_answer_1': None,\n",
    "    'model_reasoning_1': None,\n",
    "    'model_correct_1': False,\n",
    "    'model_answer_2': None,\n",
    "    'model_reasoning_2': None,\n",
    "    'model_correct_2': False,\n",
    "    'question_solved': False\n",
    "}\n",
    "\n",
    "entries = []\n",
    "for res in all_results:\n",
    "    entry = entry_template.copy()\n",
    "    entry['question_index'] = res['idx']\n",
    "    entry['question'] = res['steps'][0]['x']\n",
    "    entry['completion_tokens'] = res['usage_so_far']['completion_tokens']\n",
    "    entry['prompt_tokens'] = res['usage_so_far']['prompt_tokens']\n",
    "    entry['cost'] = res['usage_so_far']['cost']\n",
    "    entry['correct_answer'] = res['infos'][0]['correct_answer']\n",
    "    entry['model_answer_1'] = res['infos'][0]['model_answer']\n",
    "    entry['model_reasoning_1'] = res['ys'][0]\n",
    "    entry['model_correct_1'] = int(res['infos'][0]['r'])\n",
    "\n",
    "    if len(res['infos']) == 2:\n",
    "        entry['model_answer_2'] = res['infos'][1]['model_answer']\n",
    "        entry['model_reasoning_2'] = res['ys'][1]\n",
    "        entry['model_correct_2'] = int(res['infos'][1]['r'])\n",
    "\n",
    "    else:\n",
    "        entry['model_answer_2'] = None\n",
    "        entry['model_reasoning_2'] = None\n",
    "        entry['model_correct_2'] = 0\n",
    "\n",
    "    \n",
    "    entry['question_solved'] = int(entry['model_correct_1'] or entry['model_correct_2'])\n",
    "    entries.append(entry)"
   ]
  },
  {
   "cell_type": "code",
   "execution_count": 200,
   "id": "c0e0e7f3",
   "metadata": {},
   "outputs": [
    {
     "data": {
      "text/html": [
       "<div>\n",
       "<style scoped>\n",
       "    .dataframe tbody tr th:only-of-type {\n",
       "        vertical-align: middle;\n",
       "    }\n",
       "\n",
       "    .dataframe tbody tr th {\n",
       "        vertical-align: top;\n",
       "    }\n",
       "\n",
       "    .dataframe thead th {\n",
       "        text-align: right;\n",
       "    }\n",
       "</style>\n",
       "<table border=\"1\" class=\"dataframe\">\n",
       "  <thead>\n",
       "    <tr style=\"text-align: right;\">\n",
       "      <th></th>\n",
       "      <th>question_index</th>\n",
       "      <th>question</th>\n",
       "      <th>completion_tokens</th>\n",
       "      <th>prompt_tokens</th>\n",
       "      <th>cost</th>\n",
       "      <th>correct_answer</th>\n",
       "      <th>model_answer_1</th>\n",
       "      <th>model_reasoning_1</th>\n",
       "      <th>model_correct_1</th>\n",
       "      <th>model_answer_2</th>\n",
       "      <th>model_reasoning_2</th>\n",
       "      <th>model_correct_2</th>\n",
       "      <th>question_solved</th>\n",
       "    </tr>\n",
       "  </thead>\n",
       "  <tbody>\n",
       "    <tr>\n",
       "      <th>302</th>\n",
       "      <td>302</td>\n",
       "      <td>If $f(x)$, whose graph is shown below, is defi...</td>\n",
       "      <td>1199555</td>\n",
       "      <td>5783380</td>\n",
       "      <td>11.074180</td>\n",
       "      <td>6.0</td>\n",
       "      <td>5.0</td>\n",
       "      <td>To find the maximum value of $f^{-1}(x)$, we c...</td>\n",
       "      <td>0</td>\n",
       "      <td>None</td>\n",
       "      <td>None</td>\n",
       "      <td>0</td>\n",
       "      <td>0</td>\n",
       "    </tr>\n",
       "    <tr>\n",
       "      <th>303</th>\n",
       "      <td>303</td>\n",
       "      <td>What is the ordered pair of real numbers $(x, ...</td>\n",
       "      <td>1202103</td>\n",
       "      <td>5800592</td>\n",
       "      <td>11.105094</td>\n",
       "      <td>-18.0</td>\n",
       "      <td>-1.0</td>\n",
       "      <td>Step 1: The absolute value function is always ...</td>\n",
       "      <td>0</td>\n",
       "      <td>None</td>\n",
       "      <td>None</td>\n",
       "      <td>0</td>\n",
       "      <td>0</td>\n",
       "    </tr>\n",
       "    <tr>\n",
       "      <th>304</th>\n",
       "      <td>304</td>\n",
       "      <td>A circle is centered at $(5,15)$ and has a rad...</td>\n",
       "      <td>1206909</td>\n",
       "      <td>5819116</td>\n",
       "      <td>11.142492</td>\n",
       "      <td>12.0</td>\n",
       "      <td>12.0</td>\n",
       "      <td>Step 1: Let the $y$-coordinate be $a$, so the ...</td>\n",
       "      <td>1</td>\n",
       "      <td>None</td>\n",
       "      <td>None</td>\n",
       "      <td>0</td>\n",
       "      <td>1</td>\n",
       "    </tr>\n",
       "    <tr>\n",
       "      <th>305</th>\n",
       "      <td>305</td>\n",
       "      <td>What real values of $x$ are not in the domain ...</td>\n",
       "      <td>1209859</td>\n",
       "      <td>5836582</td>\n",
       "      <td>11.174591</td>\n",
       "      <td>-4.0</td>\n",
       "      <td>-5.0</td>\n",
       "      <td>Step 1: To determine the values of $x$ that ar...</td>\n",
       "      <td>0</td>\n",
       "      <td>None</td>\n",
       "      <td>None</td>\n",
       "      <td>0</td>\n",
       "      <td>0</td>\n",
       "    </tr>\n",
       "    <tr>\n",
       "      <th>306</th>\n",
       "      <td>306</td>\n",
       "      <td>Two weeks ago, Alice came home from vacation a...</td>\n",
       "      <td>1211834</td>\n",
       "      <td>5853779</td>\n",
       "      <td>11.204337</td>\n",
       "      <td>228.3</td>\n",
       "      <td>852.0</td>\n",
       "      <td>Step 1: Let $h$ represent the height of the pl...</td>\n",
       "      <td>0</td>\n",
       "      <td>None</td>\n",
       "      <td>None</td>\n",
       "      <td>0</td>\n",
       "      <td>0</td>\n",
       "    </tr>\n",
       "  </tbody>\n",
       "</table>\n",
       "</div>"
      ],
      "text/plain": [
       "     question_index                                           question  \\\n",
       "302             302  If $f(x)$, whose graph is shown below, is defi...   \n",
       "303             303  What is the ordered pair of real numbers $(x, ...   \n",
       "304             304  A circle is centered at $(5,15)$ and has a rad...   \n",
       "305             305  What real values of $x$ are not in the domain ...   \n",
       "306             306  Two weeks ago, Alice came home from vacation a...   \n",
       "\n",
       "     completion_tokens  prompt_tokens       cost correct_answer  \\\n",
       "302            1199555        5783380  11.074180            6.0   \n",
       "303            1202103        5800592  11.105094          -18.0   \n",
       "304            1206909        5819116  11.142492           12.0   \n",
       "305            1209859        5836582  11.174591           -4.0   \n",
       "306            1211834        5853779  11.204337          228.3   \n",
       "\n",
       "    model_answer_1                                  model_reasoning_1  \\\n",
       "302            5.0  To find the maximum value of $f^{-1}(x)$, we c...   \n",
       "303           -1.0  Step 1: The absolute value function is always ...   \n",
       "304           12.0  Step 1: Let the $y$-coordinate be $a$, so the ...   \n",
       "305           -5.0  Step 1: To determine the values of $x$ that ar...   \n",
       "306          852.0  Step 1: Let $h$ represent the height of the pl...   \n",
       "\n",
       "     model_correct_1 model_answer_2 model_reasoning_2  model_correct_2  \\\n",
       "302                0           None              None                0   \n",
       "303                0           None              None                0   \n",
       "304                1           None              None                0   \n",
       "305                0           None              None                0   \n",
       "306                0           None              None                0   \n",
       "\n",
       "     question_solved  \n",
       "302                0  \n",
       "303                0  \n",
       "304                1  \n",
       "305                0  \n",
       "306                0  "
      ]
     },
     "execution_count": 200,
     "metadata": {},
     "output_type": "execute_result"
    }
   ],
   "source": [
    "import pandas as pd\n",
    "df = pd.DataFrame.from_records(entries)\n",
    "\n",
    "cost_update = df[df['cost'] < df['cost'].shift(1)].index\n",
    "for ind in cost_update:\n",
    "    df.loc[ind, ['cost', 'completion_tokens', 'prompt_tokens']] += df.loc[ind-1, ['cost', 'completion_tokens', 'prompt_tokens']]\n",
    "\n",
    "df.sort_values(by='question_index', inplace=True)\n",
    "df.tail()"
   ]
  },
  {
   "cell_type": "code",
   "execution_count": 202,
   "id": "5269376a",
   "metadata": {},
   "outputs": [
    {
     "data": {
      "text/plain": [
       "0.2736156351791531"
      ]
     },
     "execution_count": 202,
     "metadata": {},
     "output_type": "execute_result"
    }
   ],
   "source": [
    "df['question_solved'].mean()"
   ]
  },
  {
   "cell_type": "code",
   "execution_count": 203,
   "id": "607a096b",
   "metadata": {},
   "outputs": [
    {
     "data": {
      "text/plain": [
       "307"
      ]
     },
     "execution_count": 203,
     "metadata": {},
     "output_type": "execute_result"
    }
   ],
   "source": [
    "df['question_index'].nunique()"
   ]
  },
  {
   "cell_type": "code",
   "execution_count": null,
   "id": "8534bea2",
   "metadata": {},
   "outputs": [],
   "source": []
  }
 ],
 "metadata": {
  "kernelspec": {
   "display_name": "Python 3 (ipykernel)",
   "language": "python",
   "name": "python3"
  },
  "language_info": {
   "codemirror_mode": {
    "name": "ipython",
    "version": 3
   },
   "file_extension": ".py",
   "mimetype": "text/x-python",
   "name": "python",
   "nbconvert_exporter": "python",
   "pygments_lexer": "ipython3",
   "version": "3.9.17"
  }
 },
 "nbformat": 4,
 "nbformat_minor": 5
}